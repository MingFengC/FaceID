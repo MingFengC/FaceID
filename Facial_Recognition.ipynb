{
 "cells": [
  {
   "cell_type": "markdown",
   "metadata": {},
   "source": [
    "# 1. Setup"
   ]
  },
  {
   "cell_type": "markdown",
   "metadata": {},
   "source": [
    "## 1.1 Install Dependencies"
   ]
  },
  {
   "cell_type": "code",
   "execution_count": 2,
   "metadata": {},
   "outputs": [
    {
     "name": "stdout",
     "output_type": "stream",
     "text": [
      "zsh:1: /Users/chuamingfeng/Desktop/FaceID/faceid/bin/pip: bad interpreter: /Users/chuamingfeng/Desktop/Facial_Recognition/faceid/bin/python3.11: no such file or directory\n"
     ]
    },
    {
     "name": "stdout",
     "output_type": "stream",
     "text": [
      "Collecting tensorflow==2.13.0\n",
      "  Obtaining dependency information for tensorflow==2.13.0 from https://files.pythonhosted.org/packages/86/a3/a6ffba31621a402d12b137e656814c7b8de2f796fa976acbe92f4602ebad/tensorflow-2.13.0-cp311-cp311-macosx_10_15_x86_64.whl.metadata\n",
      "  Downloading tensorflow-2.13.0-cp311-cp311-macosx_10_15_x86_64.whl.metadata (3.2 kB)\n",
      "Collecting opencv-python\n",
      "  Obtaining dependency information for opencv-python from https://files.pythonhosted.org/packages/8a/6f/8aa049b66bcba8b5a4dc872ecfdbcd8603a96704b070fde22222e479c3d7/opencv_python-4.8.0.76-cp37-abi3-macosx_10_16_x86_64.whl.metadata\n",
      "  Downloading opencv_python-4.8.0.76-cp37-abi3-macosx_10_16_x86_64.whl.metadata (19 kB)\n",
      "Requirement already satisfied: matplotlib in /Users/chuamingfeng/anaconda3/lib/python3.11/site-packages (3.7.1)\n",
      "Collecting absl-py>=1.0.0 (from tensorflow==2.13.0)\n",
      "  Using cached absl_py-1.4.0-py3-none-any.whl (126 kB)\n",
      "Collecting astunparse>=1.6.0 (from tensorflow==2.13.0)\n",
      "  Using cached astunparse-1.6.3-py2.py3-none-any.whl (12 kB)\n",
      "Collecting flatbuffers>=23.1.21 (from tensorflow==2.13.0)\n",
      "  Obtaining dependency information for flatbuffers>=23.1.21 from https://files.pythonhosted.org/packages/6f/12/d5c79ee252793ffe845d58a913197bfa02ae9a0b5c9bc3dc4b58d477b9e7/flatbuffers-23.5.26-py2.py3-none-any.whl.metadata\n",
      "  Downloading flatbuffers-23.5.26-py2.py3-none-any.whl.metadata (850 bytes)\n",
      "Collecting gast<=0.4.0,>=0.2.1 (from tensorflow==2.13.0)\n",
      "  Using cached gast-0.4.0-py3-none-any.whl (9.8 kB)\n",
      "Collecting google-pasta>=0.1.1 (from tensorflow==2.13.0)\n",
      "  Using cached google_pasta-0.2.0-py3-none-any.whl (57 kB)\n",
      "Requirement already satisfied: h5py>=2.9.0 in /Users/chuamingfeng/anaconda3/lib/python3.11/site-packages (from tensorflow==2.13.0) (3.7.0)\n",
      "Collecting libclang>=13.0.0 (from tensorflow==2.13.0)\n",
      "  Obtaining dependency information for libclang>=13.0.0 from https://files.pythonhosted.org/packages/c9/ea/fe2a69cc6cfebf7c7ee8a6357566fc1cbb91632bde5869b669a396accb5f/libclang-16.0.6-py2.py3-none-macosx_10_9_x86_64.whl.metadata\n",
      "  Downloading libclang-16.0.6-py2.py3-none-macosx_10_9_x86_64.whl.metadata (5.2 kB)\n",
      "Requirement already satisfied: numpy<=1.24.3,>=1.22 in /Users/chuamingfeng/anaconda3/lib/python3.11/site-packages (from tensorflow==2.13.0) (1.24.3)\n",
      "Collecting opt-einsum>=2.3.2 (from tensorflow==2.13.0)\n",
      "  Using cached opt_einsum-3.3.0-py3-none-any.whl (65 kB)\n",
      "Requirement already satisfied: packaging in /Users/chuamingfeng/anaconda3/lib/python3.11/site-packages (from tensorflow==2.13.0) (23.0)\n",
      "Collecting protobuf!=4.21.0,!=4.21.1,!=4.21.2,!=4.21.3,!=4.21.4,!=4.21.5,<5.0.0dev,>=3.20.3 (from tensorflow==2.13.0)\n",
      "  Obtaining dependency information for protobuf!=4.21.0,!=4.21.1,!=4.21.2,!=4.21.3,!=4.21.4,!=4.21.5,<5.0.0dev,>=3.20.3 from https://files.pythonhosted.org/packages/ac/8f/a7e5dfc2d285526c74b82f118d5b4857875f39405aa1d6f1df56ef25a070/protobuf-4.24.2-cp37-abi3-macosx_10_9_universal2.whl.metadata\n",
      "  Downloading protobuf-4.24.2-cp37-abi3-macosx_10_9_universal2.whl.metadata (540 bytes)\n",
      "Requirement already satisfied: setuptools in /Users/chuamingfeng/anaconda3/lib/python3.11/site-packages (from tensorflow==2.13.0) (68.0.0)\n",
      "Requirement already satisfied: six>=1.12.0 in /Users/chuamingfeng/anaconda3/lib/python3.11/site-packages (from tensorflow==2.13.0) (1.16.0)\n",
      "Collecting termcolor>=1.1.0 (from tensorflow==2.13.0)\n",
      "  Using cached termcolor-2.3.0-py3-none-any.whl (6.9 kB)\n",
      "Collecting typing-extensions<4.6.0,>=3.6.6 (from tensorflow==2.13.0)\n",
      "  Using cached typing_extensions-4.5.0-py3-none-any.whl (27 kB)\n",
      "Requirement already satisfied: wrapt>=1.11.0 in /Users/chuamingfeng/anaconda3/lib/python3.11/site-packages (from tensorflow==2.13.0) (1.14.1)\n",
      "Collecting grpcio<2.0,>=1.24.3 (from tensorflow==2.13.0)\n",
      "  Obtaining dependency information for grpcio<2.0,>=1.24.3 from https://files.pythonhosted.org/packages/7d/95/95040281591928aa8428737df2963b90f7a690d2d583484df81ac292e715/grpcio-1.57.0-cp311-cp311-macosx_10_10_universal2.whl.metadata\n",
      "  Downloading grpcio-1.57.0-cp311-cp311-macosx_10_10_universal2.whl.metadata (4.0 kB)\n",
      "Collecting tensorboard<2.14,>=2.13 (from tensorflow==2.13.0)\n",
      "  Using cached tensorboard-2.13.0-py3-none-any.whl (5.6 MB)\n",
      "Collecting tensorflow-estimator<2.14,>=2.13.0 (from tensorflow==2.13.0)\n",
      "  Obtaining dependency information for tensorflow-estimator<2.14,>=2.13.0 from https://files.pythonhosted.org/packages/72/5c/c318268d96791c6222ad7df1651bbd1b2409139afeb6f468c0f327177016/tensorflow_estimator-2.13.0-py2.py3-none-any.whl.metadata\n",
      "  Downloading tensorflow_estimator-2.13.0-py2.py3-none-any.whl.metadata (1.3 kB)\n",
      "Collecting keras<2.14,>=2.13.1 (from tensorflow==2.13.0)\n",
      "  Obtaining dependency information for keras<2.14,>=2.13.1 from https://files.pythonhosted.org/packages/2e/f3/19da7511b45e80216cbbd9467137b2d28919c58ba1ccb971435cb631e470/keras-2.13.1-py3-none-any.whl.metadata\n",
      "  Downloading keras-2.13.1-py3-none-any.whl.metadata (2.4 kB)\n",
      "Collecting tensorflow-io-gcs-filesystem>=0.23.1 (from tensorflow==2.13.0)\n",
      "  Obtaining dependency information for tensorflow-io-gcs-filesystem>=0.23.1 from https://files.pythonhosted.org/packages/99/12/771872a0f07795dd79e8c2800512c084d0b8a77a2b4041ee7d898b675ca3/tensorflow_io_gcs_filesystem-0.33.0-cp311-cp311-macosx_10_14_x86_64.whl.metadata\n",
      "  Downloading tensorflow_io_gcs_filesystem-0.33.0-cp311-cp311-macosx_10_14_x86_64.whl.metadata (14 kB)\n",
      "Requirement already satisfied: contourpy>=1.0.1 in /Users/chuamingfeng/anaconda3/lib/python3.11/site-packages (from matplotlib) (1.0.5)\n",
      "Requirement already satisfied: cycler>=0.10 in /Users/chuamingfeng/anaconda3/lib/python3.11/site-packages (from matplotlib) (0.11.0)\n",
      "Requirement already satisfied: fonttools>=4.22.0 in /Users/chuamingfeng/anaconda3/lib/python3.11/site-packages (from matplotlib) (4.25.0)\n",
      "Requirement already satisfied: kiwisolver>=1.0.1 in /Users/chuamingfeng/anaconda3/lib/python3.11/site-packages (from matplotlib) (1.4.4)\n",
      "Requirement already satisfied: pillow>=6.2.0 in /Users/chuamingfeng/anaconda3/lib/python3.11/site-packages (from matplotlib) (9.4.0)\n",
      "Requirement already satisfied: pyparsing>=2.3.1 in /Users/chuamingfeng/anaconda3/lib/python3.11/site-packages (from matplotlib) (3.0.9)\n",
      "Requirement already satisfied: python-dateutil>=2.7 in /Users/chuamingfeng/anaconda3/lib/python3.11/site-packages (from matplotlib) (2.8.2)\n",
      "Requirement already satisfied: wheel<1.0,>=0.23.0 in /Users/chuamingfeng/anaconda3/lib/python3.11/site-packages (from astunparse>=1.6.0->tensorflow==2.13.0) (0.38.4)\n",
      "^C\n",
      "\u001b[31mERROR: Operation cancelled by user\u001b[0m\u001b[31m\n",
      "\u001b[0m"
     ]
    }
   ],
   "source": [
    "!pip install tensorflow==2.13.0 opencv-python matplotlib"
   ]
  },
  {
   "cell_type": "markdown",
   "metadata": {},
   "source": [
    "## 1.2 Import Dependencies"
   ]
  },
  {
   "cell_type": "code",
   "execution_count": 1,
   "metadata": {},
   "outputs": [],
   "source": [
    "# Import standard dependencies\n",
    "import cv2\n",
    "import os\n",
    "import random\n",
    "import numpy as np\n",
    "import matplotlib.pyplot as plt"
   ]
  },
  {
   "cell_type": "code",
   "execution_count": 2,
   "metadata": {},
   "outputs": [
    {
     "name": "stderr",
     "output_type": "stream",
     "text": [
      "2023-09-03 19:02:19.104832: I tensorflow/core/platform/cpu_feature_guard.cc:182] This TensorFlow binary is optimized to use available CPU instructions in performance-critical operations.\n",
      "To enable the following instructions: AVX2 AVX512F AVX512_VNNI FMA, in other operations, rebuild TensorFlow with the appropriate compiler flags.\n"
     ]
    }
   ],
   "source": [
    "# Import tensorflow dependencies with tensorflow Functional API\n",
    "from tensorflow.keras.models import Model\n",
    "from tensorflow.keras.layers import Layer, Conv2D, Dense, MaxPooling2D, Input, Flatten\n",
    "import tensorflow as tf"
   ]
  },
  {
   "cell_type": "markdown",
   "metadata": {},
   "source": [
    "## 1.3 Set GPU Growth"
   ]
  },
  {
   "cell_type": "markdown",
   "metadata": {},
   "source": [
    "## 1.4 Create Folder Structure"
   ]
  },
  {
   "cell_type": "code",
   "execution_count": 21,
   "metadata": {},
   "outputs": [],
   "source": [
    "# Setup paths\n",
    "POS_PATH = os.path.join('data', 'positive')\n",
    "NEG_PATH = os.path.join('data', 'negative')\n",
    "ANC_PATH = os.path.join('data', 'anchor')"
   ]
  },
  {
   "cell_type": "code",
   "execution_count": null,
   "metadata": {},
   "outputs": [],
   "source": [
    "# Make the directories\n",
    "os.makedirs(POS_PATH)\n",
    "os.makedirs(NEG_PATH)\n",
    "os.makedirs(ANC_PATH)"
   ]
  },
  {
   "cell_type": "markdown",
   "metadata": {},
   "source": [
    "# 2. Collect Positives and Anchors"
   ]
  },
  {
   "cell_type": "markdown",
   "metadata": {},
   "source": [
    "## 2.1 Untar Labelled Faces in the Wild Dataset\n",
    "http://vis-www.cs.umass.edu/lfw/"
   ]
  },
  {
   "cell_type": "code",
   "execution_count": null,
   "metadata": {},
   "outputs": [],
   "source": [
    "# Uncompress Labelled Faces in the Wild Dataset\n",
    "!tar -xf lfw.tgz"
   ]
  },
  {
   "cell_type": "code",
   "execution_count": null,
   "metadata": {},
   "outputs": [],
   "source": [
    "# Move LFW images to the following repository data/negative\n",
    "for directory in os.listdir('lfw'):\n",
    "    if directory != '.DS_Store':\n",
    "        for file in os.listdir('lfw/' + directory):\n",
    "            EX_PATH = os.path.join('lfw/', directory, file)\n",
    "            NEW_PATH = os.path.join(NEG_PATH, file)\n",
    "            os.replace(EX_PATH, NEW_PATH)"
   ]
  },
  {
   "cell_type": "markdown",
   "metadata": {},
   "source": [
    "## 2.2 Collect Positive and Anchor Classes"
   ]
  },
  {
   "cell_type": "code",
   "execution_count": 18,
   "metadata": {},
   "outputs": [],
   "source": [
    "# Import uuid library to generate unique image names\n",
    "import uuid"
   ]
  },
  {
   "cell_type": "code",
   "execution_count": 22,
   "metadata": {},
   "outputs": [],
   "source": [
    "# Establish a connection to the webcam\n",
    "cap = cv2.VideoCapture(0)\n",
    "while cap.isOpened():\n",
    "    ret, frame = cap.read()\n",
    "\n",
    "    frame = frame[120:120+250, 650:650+250, :]\n",
    "\n",
    "    # Collect anchors\n",
    "    if cv2.waitKey(1) & 0XFF == ord('a'):\n",
    "        # Create unique file path\n",
    "        imgname = os.path.join(ANC_PATH, '{}.jpg'.format(uuid.uuid1()))\n",
    "        # Write out anchor image\n",
    "        cv2.imwrite(imgname, frame)\n",
    "\n",
    "    # Collect positives\n",
    "    if cv2.waitKey(1) & 0XFF == ord('p'):\n",
    "        # Create unique file path\n",
    "        imgname = os.path.join(POS_PATH, '{}.jpg'.format(uuid.uuid1()))\n",
    "        # Write out positive image\n",
    "        cv2.imwrite(imgname, frame)\n",
    "    \n",
    "    # Shows image on the screen\n",
    "    cv2.imshow('Image Collection', frame)\n",
    "\n",
    "    if cv2.waitKey(1) & 0XFF == ord('q'):\n",
    "        break\n",
    "cap.release()\n",
    "cv2.destroyAllWindows()"
   ]
  },
  {
   "cell_type": "markdown",
   "metadata": {},
   "source": [
    "# 3. Load and Preprocess Images"
   ]
  },
  {
   "cell_type": "markdown",
   "metadata": {},
   "source": [
    "## 3.1 Get Image Directories"
   ]
  },
  {
   "cell_type": "code",
   "execution_count": 26,
   "metadata": {},
   "outputs": [],
   "source": [
    "anchor = tf.data.Dataset.list_files(ANC_PATH + '/*.jpg').take(300)\n",
    "positive = tf.data.Dataset.list_files(POS_PATH + '/*.jpg').take(300)\n",
    "negative = tf.data.Dataset.list_files(NEG_PATH + '/*.jpg').take(300)"
   ]
  },
  {
   "cell_type": "code",
   "execution_count": 32,
   "metadata": {},
   "outputs": [],
   "source": [
    "dir_test = anchor.as_numpy_iterator()"
   ]
  },
  {
   "cell_type": "code",
   "execution_count": 33,
   "metadata": {},
   "outputs": [
    {
     "data": {
      "text/plain": [
       "b'data/anchor/e1ea2268-4992-11ee-9e28-acde48001122.jpg'"
      ]
     },
     "execution_count": 33,
     "metadata": {},
     "output_type": "execute_result"
    }
   ],
   "source": [
    "dir_test.next()"
   ]
  },
  {
   "cell_type": "markdown",
   "metadata": {},
   "source": [
    "## 3.2 Preprocessing - Scale and Resize"
   ]
  },
  {
   "cell_type": "code",
   "execution_count": 40,
   "metadata": {},
   "outputs": [],
   "source": [
    "def preprocess(file_path):\n",
    "    \n",
    "    # Read in image from file path\n",
    "    byte_img =  tf.io.read_file(file_path)\n",
    "    # Load in the image\n",
    "    img = tf.io.decode_jpeg(byte_img)\n",
    "\n",
    "    # Preprocessing - resizing the image to be 105x105x3\n",
    "    img = tf.image.resize(img, (105,105))\n",
    "    # Scale image to between 0 and 1\n",
    "    img = img/255.0\n",
    "    return img"
   ]
  },
  {
   "cell_type": "code",
   "execution_count": 53,
   "metadata": {},
   "outputs": [],
   "source": [
    "img = preprocess('data/anchor/e1ea2268-4992-11ee-9e28-acde48001122.jpg')"
   ]
  },
  {
   "cell_type": "code",
   "execution_count": 42,
   "metadata": {},
   "outputs": [
    {
     "data": {
      "text/plain": [
       "<tf.Tensor: shape=(105, 105, 3), dtype=float32, numpy=\n",
       "array([[[0.5254902 , 0.4117647 , 0.28627452],\n",
       "        [0.5294118 , 0.41512603, 0.28991598],\n",
       "        [0.51856965, 0.39700103, 0.27543238],\n",
       "        ...,\n",
       "        [0.05583568, 0.04799255, 0.0562092 ],\n",
       "        [0.05788982, 0.05732961, 0.06545284],\n",
       "        [0.03893998, 0.03893998, 0.04678312]],\n",
       "\n",
       "       [[0.52408296, 0.41035748, 0.28430706],\n",
       "        [0.5291516 , 0.41514605, 0.2885754 ],\n",
       "        [0.5261438 , 0.4084967 , 0.27516338],\n",
       "        ...,\n",
       "        [0.08085902, 0.0731426 , 0.07668403],\n",
       "        [0.08209284, 0.08153263, 0.08909567],\n",
       "        [0.05376812, 0.05396153, 0.06180467]],\n",
       "\n",
       "       [[0.5185808 , 0.40485528, 0.27152196],\n",
       "        [0.5203548 , 0.4063492 , 0.2730159 ],\n",
       "        [0.5268352 , 0.40918812, 0.2758548 ],\n",
       "        ...,\n",
       "        [0.08315548, 0.07467876, 0.07762887],\n",
       "        [0.07102173, 0.06881419, 0.08157264],\n",
       "        [0.04835485, 0.04806362, 0.06122889]],\n",
       "\n",
       "       ...,\n",
       "\n",
       "       [[0.18947133, 0.18554977, 0.17770663],\n",
       "        [0.18231958, 0.17839801, 0.17055488],\n",
       "        [0.1939309 , 0.19000933, 0.18216619],\n",
       "        ...,\n",
       "        [0.72371614, 0.72371614, 0.7593838 ],\n",
       "        [0.73333335, 0.73333335, 0.76900095],\n",
       "        [0.72875816, 0.72875816, 0.76442575]],\n",
       "\n",
       "       [[0.18563426, 0.18171269, 0.16658662],\n",
       "        [0.18431373, 0.18039216, 0.1652661 ],\n",
       "        [0.1934574 , 0.18953583, 0.17440975],\n",
       "        ...,\n",
       "        [0.7169335 , 0.7242164 , 0.77071506],\n",
       "        [0.72943175, 0.73671466, 0.7832133 ],\n",
       "        [0.720915  , 0.72819793, 0.7746966 ]],\n",
       "\n",
       "       [[0.19944201, 0.19552045, 0.17983416],\n",
       "        [0.17917834, 0.17525677, 0.15957049],\n",
       "        [0.18218844, 0.17826687, 0.1625806 ],\n",
       "        ...,\n",
       "        [0.71287405, 0.7285603 , 0.7716976 ],\n",
       "        [0.72913164, 0.7448179 , 0.78795516],\n",
       "        [0.7203548 , 0.72819793, 0.77525675]]], dtype=float32)>"
      ]
     },
     "execution_count": 42,
     "metadata": {},
     "output_type": "execute_result"
    }
   ],
   "source": [
    "img"
   ]
  },
  {
   "cell_type": "code",
   "execution_count": 43,
   "metadata": {},
   "outputs": [
    {
     "data": {
      "text/plain": [
       "<matplotlib.image.AxesImage at 0x13388d310>"
      ]
     },
     "execution_count": 43,
     "metadata": {},
     "output_type": "execute_result"
    },
    {
     "data": {
      "image/png": "[encoded data removed]",
      "text/plain": [
       "<Figure size 640x480 with 1 Axes>"
      ]
     },
     "metadata": {},
     "output_type": "display_data"
    }
   ],
   "source": [
    "plt.imshow(img)"
   ]
  },
  {
   "cell_type": "markdown",
   "metadata": {},
   "source": [
    "## 3.3 Create Labelled Dataset"
   ]
  },
  {
   "cell_type": "code",
   "execution_count": 45,
   "metadata": {},
   "outputs": [],
   "source": [
    "# (anchor, positive) -> 1,1,1,1,1\n",
    "# (anchor, negative) -> 0,0,0,0,0"
   ]
  },
  {
   "cell_type": "code",
   "execution_count": 50,
   "metadata": {},
   "outputs": [],
   "source": [
    "positives = tf.data.Dataset.zip(\n",
    "    (\n",
    "        anchor, \n",
    "        positive, \n",
    "        tf.data.Dataset.from_tensor_slices(tf.ones(len(anchor)))\n",
    "        )\n",
    ")\n",
    "\n",
    "negatives = tf.data.Dataset.zip(\n",
    "    (\n",
    "        anchor, \n",
    "        negative, \n",
    "        tf.data.Dataset.from_tensor_slices(tf.zeros(len(anchor)))\n",
    "        )\n",
    ")\n",
    "\n",
    "data = positives.concatenate(negatives)"
   ]
  },
  {
   "cell_type": "code",
   "execution_count": 54,
   "metadata": {},
   "outputs": [],
   "source": [
    "samples = data.as_numpy_iterator()"
   ]
  },
  {
   "cell_type": "code",
   "execution_count": 57,
   "metadata": {},
   "outputs": [
    {
     "data": {
      "text/plain": [
       "(b'data/anchor/e174e75a-4992-11ee-9e28-acde48001122.jpg',\n",
       " b'data/positive/f7303d10-4992-11ee-9e28-acde48001122.jpg',\n",
       " 1.0)"
      ]
     },
     "execution_count": 57,
     "metadata": {},
     "output_type": "execute_result"
    }
   ],
   "source": [
    "example = samples.next()\n",
    "example"
   ]
  },
  {
   "cell_type": "markdown",
   "metadata": {},
   "source": [
    "## 3.4 Build Train and Test Partition"
   ]
  },
  {
   "cell_type": "code",
   "execution_count": 58,
   "metadata": {},
   "outputs": [],
   "source": [
    "def preprocess_twin(input_img, validation_img, label):\n",
    "    return (preprocess(input_img), preprocess(validation_img), label)"
   ]
  },
  {
   "cell_type": "code",
   "execution_count": 59,
   "metadata": {},
   "outputs": [
    {
     "data": {
      "text/plain": [
       "(<tf.Tensor: shape=(105, 105, 3), dtype=float32, numpy=\n",
       " array([[[0.58889115, 0.47124407, 0.3300676 ],\n",
       "         [0.5928038 , 0.48299986, 0.3373416 ],\n",
       "         [0.58618116, 0.47637722, 0.32343602],\n",
       "         ...,\n",
       "         [0.06722687, 0.07292247, 0.07544352],\n",
       "         [0.06900761, 0.07292918, 0.08077232],\n",
       "         [0.04519359, 0.04519359, 0.05303672]],\n",
       " \n",
       "        [[0.60755634, 0.48906896, 0.3481726 ],\n",
       "         [0.6084033 , 0.48991597, 0.34901962],\n",
       "         [0.6046352 , 0.48652795, 0.34550488],\n",
       "         ...,\n",
       "         [0.08083234, 0.08842205, 0.08107914],\n",
       "         [0.08291316, 0.08711483, 0.09411766],\n",
       "         [0.05454176, 0.05724951, 0.06509264]],\n",
       " \n",
       "        [[0.6228647 , 0.4916789 , 0.3508759 ],\n",
       "         [0.60999066, 0.48235294, 0.3397759 ],\n",
       "         [0.61196923, 0.487246  , 0.34369746],\n",
       "         ...,\n",
       "         [0.08352897, 0.08352897, 0.083529  ],\n",
       "         [0.09725892, 0.0979125 , 0.11023746],\n",
       "         [0.05496193, 0.0588835 , 0.07027472]],\n",
       " \n",
       "        ...,\n",
       " \n",
       "        [[0.26515055, 0.24946427, 0.2455427 ],\n",
       "         [0.2460984 , 0.23041213, 0.22649056],\n",
       "         [0.24041167, 0.2247254 , 0.22080383],\n",
       "         ...,\n",
       "         [0.79058737, 0.8145102 , 0.8513539 ],\n",
       "         [0.7963252 , 0.8173336 , 0.8584434 ],\n",
       "         [0.7964519 , 0.8174603 , 0.85882354]],\n",
       " \n",
       "        [[0.27180207, 0.2561158 , 0.25219423],\n",
       "         [0.2184674 , 0.20278113, 0.19885956],\n",
       "         [0.22804457, 0.21235828, 0.20843671],\n",
       "         ...,\n",
       "         [0.795825  , 0.81189144, 0.85689616],\n",
       "         [0.79971987, 0.81540614, 0.8621849 ],\n",
       "         [0.8039216 , 0.81960785, 0.8663866 ]],\n",
       " \n",
       "        [[0.26573294, 0.25004667, 0.2461251 ],\n",
       "         [0.25583565, 0.2401494 , 0.23622783],\n",
       "         [0.24313726, 0.22745098, 0.22352941],\n",
       "         ...,\n",
       "         [0.79607844, 0.8117647 , 0.85882354],\n",
       "         [0.79971987, 0.81540614, 0.862465  ],\n",
       "         [0.8       , 0.8156863 , 0.8627451 ]]], dtype=float32)>,\n",
       " <tf.Tensor: shape=(105, 105, 3), dtype=float32, numpy=\n",
       " array([[[0.10830999, 0.10438842, 0.08478057],\n",
       "         [0.10830999, 0.10438842, 0.08478057],\n",
       "         [0.10307012, 0.09914855, 0.07954071],\n",
       "         ...,\n",
       "         [0.07628383, 0.05275442, 0.06489263],\n",
       "         [0.0743164 , 0.05462186, 0.07759106],\n",
       "         [0.06199808, 0.05415494, 0.07376278]],\n",
       " \n",
       "        [[0.10653596, 0.1031746 , 0.08720822],\n",
       "         [0.10896359, 0.10560224, 0.08963586],\n",
       "         [0.10168067, 0.09819261, 0.08260638],\n",
       "         ...,\n",
       "         [0.0859944 , 0.07061492, 0.07098842],\n",
       "         [0.08315324, 0.07478991, 0.08599441],\n",
       "         [0.06171796, 0.05415494, 0.07376278]],\n",
       " \n",
       "        [[0.09925304, 0.10140056, 0.08711485],\n",
       "         [0.09844604, 0.10059357, 0.08630785],\n",
       "         [0.1076564 , 0.10883243, 0.09746121],\n",
       "         ...,\n",
       "         [0.08332445, 0.06901874, 0.07391184],\n",
       "         [0.08969588, 0.08147261, 0.09635191],\n",
       "         [0.06842954, 0.06095988, 0.08411581]],\n",
       " \n",
       "        ...,\n",
       " \n",
       "        [[0.2224201 , 0.21065539, 0.18675247],\n",
       "         [0.21970123, 0.20933704, 0.19635855],\n",
       "         [0.2101952 , 0.20274554, 0.19607843],\n",
       "         ...,\n",
       "         [0.7394024 , 0.76685345, 0.80252105],\n",
       "         [0.7413966 , 0.7688476 , 0.80451524],\n",
       "         [0.7381886 , 0.7656396 , 0.8013072 ]],\n",
       " \n",
       "        [[0.22857809, 0.20953046, 0.18572095],\n",
       "         [0.22691076, 0.20810324, 0.19243698],\n",
       "         [0.2231226 , 0.20781647, 0.19648524],\n",
       "         ...,\n",
       "         [0.74509805, 0.77254903, 0.8117647 ],\n",
       "         [0.7490196 , 0.7764706 , 0.8156863 ],\n",
       "         [0.73996264, 0.7674136 , 0.8066293 ]],\n",
       " \n",
       "        [[0.23258637, 0.20513539, 0.17376284],\n",
       "         [0.22324929, 0.20364144, 0.18598105],\n",
       "         [0.21391223, 0.19607843, 0.18431373],\n",
       "         ...,\n",
       "         [0.733718  , 0.7572474 , 0.8043062 ],\n",
       "         [0.73874885, 0.76227826, 0.8093371 ],\n",
       "         [0.73604107, 0.7595705 , 0.8066293 ]]], dtype=float32)>,\n",
       " 1.0)"
      ]
     },
     "execution_count": 59,
     "metadata": {},
     "output_type": "execute_result"
    }
   ],
   "source": [
    "preprocess_twin(*example)"
   ]
  },
  {
   "cell_type": "code",
   "execution_count": 60,
   "metadata": {},
   "outputs": [],
   "source": [
    "# Build dataloader pipeline\n",
    "data = data.map(preprocess_twin)\n",
    "data = data.cache()\n",
    "data = data.shuffle(buffer_size=1024)"
   ]
  },
  {
   "cell_type": "code",
   "execution_count": 101,
   "metadata": {},
   "outputs": [],
   "source": [
    "# Training partition\n",
    "train_data = data.take(\n",
    "    round(len(data)*.7)\n",
    "    )\n",
    "train_data = train_data.batch(16)\n",
    "train_data = train_data.prefetch(8)"
   ]
  },
  {
   "cell_type": "code",
   "execution_count": 110,
   "metadata": {},
   "outputs": [],
   "source": [
    "# Testing partition\n",
    "test_data = data.skip(\n",
    "    round(len(data)*.7)\n",
    "    )\n",
    "test_data = test_data.take(\n",
    "    round(len(data)*.3)\n",
    "    )\n",
    "test_data = test_data.batch(16)\n",
    "test_data = test_data.prefetch(8)"
   ]
  },
  {
   "cell_type": "markdown",
   "metadata": {},
   "source": [
    "# 4. Model Engineering"
   ]
  },
  {
   "cell_type": "markdown",
   "metadata": {},
   "source": [
    "## 4.1 Build Embedding Layer"
   ]
  },
  {
   "cell_type": "code",
   "execution_count": 119,
   "metadata": {},
   "outputs": [],
   "source": [
    "def build_embedding():\n",
    "    inp = Input(shape=(105,105,3), name='input_image')\n",
    "\n",
    "    # First block\n",
    "    c1 = Conv2D(64, (10,10), activation='relu')(inp)\n",
    "    m1 = MaxPooling2D(64, (2,2), padding='same')(c1)\n",
    "\n",
    "    # Second block\n",
    "    c2 = Conv2D(128, (7,7), activation='relu')(m1)\n",
    "    m2 = MaxPooling2D(64, (2,2), padding='same')(c2)\n",
    "\n",
    "    # Third block\n",
    "    c3 = Conv2D(128, (4,4), activation='relu')(m2)\n",
    "    m3 = MaxPooling2D(64, (2,2), padding='same')(c3)\n",
    "\n",
    "    # Final block\n",
    "    c4 = Conv2D(256, (4,4), activation='relu')(m3)\n",
    "    f1 = Flatten()(c4)\n",
    "    d1 = Dense(4096, activation='sigmoid')(f1)\n",
    "\n",
    "    return Model(inputs=[inp], outputs=[d1], name='embedding')"
   ]
  },
  {
   "cell_type": "code",
   "execution_count": 125,
   "metadata": {},
   "outputs": [],
   "source": [
    "embedding = build_embedding()"
   ]
  },
  {
   "cell_type": "code",
   "execution_count": 126,
   "metadata": {},
   "outputs": [
    {
     "name": "stdout",
     "output_type": "stream",
     "text": [
      "Model: \"embedding\"\n",
      "_________________________________________________________________\n",
      " Layer (type)                Output Shape              Param #   \n",
      "=================================================================\n",
      " input_image (InputLayer)    [(None, 105, 105, 3)]     0         \n",
      "                                                                 \n",
      " conv2d_6 (Conv2D)           (None, 96, 96, 64)        19264     \n",
      "                                                                 \n",
      " max_pooling2d_3 (MaxPoolin  (None, 48, 48, 64)        0         \n",
      " g2D)                                                            \n",
      "                                                                 \n",
      " conv2d_7 (Conv2D)           (None, 42, 42, 128)       401536    \n",
      "                                                                 \n",
      " max_pooling2d_4 (MaxPoolin  (None, 21, 21, 128)       0         \n",
      " g2D)                                                            \n",
      "                                                                 \n",
      " conv2d_8 (Conv2D)           (None, 18, 18, 128)       262272    \n",
      "                                                                 \n",
      " max_pooling2d_5 (MaxPoolin  (None, 9, 9, 128)         0         \n",
      " g2D)                                                            \n",
      "                                                                 \n",
      " conv2d_9 (Conv2D)           (None, 6, 6, 256)         524544    \n",
      "                                                                 \n",
      " flatten_1 (Flatten)         (None, 9216)              0         \n",
      "                                                                 \n",
      " dense_1 (Dense)             (None, 4096)              37752832  \n",
      "                                                                 \n",
      "=================================================================\n",
      "Total params: 38960448 (148.62 MB)\n",
      "Trainable params: 38960448 (148.62 MB)\n",
      "Non-trainable params: 0 (0.00 Byte)\n",
      "_________________________________________________________________\n"
     ]
    }
   ],
   "source": [
    "embedding.summary()"
   ]
  },
  {
   "cell_type": "markdown",
   "metadata": {},
   "source": [
    "## 4.2 Build Distance Layer"
   ]
  },
  {
   "cell_type": "code",
   "execution_count": 122,
   "metadata": {},
   "outputs": [],
   "source": [
    "class L1Dist(Layer):\n",
    "    def __init__(self, **kwargs):\n",
    "        super().__init__()\n",
    "\n",
    "    def call(self, anchor_embedding, validation_embedding):\n",
    "        return tf.math.abs(anchor_embedding - validation_embedding)"
   ]
  },
  {
   "cell_type": "code",
   "execution_count": 123,
   "metadata": {},
   "outputs": [],
   "source": [
    "l1 = L1Dist()"
   ]
  },
  {
   "cell_type": "markdown",
   "metadata": {},
   "source": [
    "## 4.3 Build Siamese Model"
   ]
  },
  {
   "cell_type": "code",
   "execution_count": 127,
   "metadata": {},
   "outputs": [],
   "source": [
    "def build_siamese_nets():\n",
    "\n",
    "    # Anchor image\n",
    "    input_image = Input(name='input_img', shape=(105,105,3))\n",
    "    # Validation image\n",
    "    validation_image = Input(name='validation_img', shape=(105,105,3))\n",
    "    \n",
    "    # Combine siamese distance components\n",
    "    siamese_layer = L1Dist()\n",
    "    siamese_layer._name = 'distance'\n",
    "    distances = siamese_layer(embedding(input_image), embedding(validation_image))\n",
    "\n",
    "    # Classification layer\n",
    "    classifier = Dense(1, activation='sigmoid')(distances)\n",
    "\n",
    "    return Model(inputs=[input_image, validation_image], outputs=classifier, name='SiameseNN')"
   ]
  },
  {
   "cell_type": "code",
   "execution_count": 131,
   "metadata": {},
   "outputs": [],
   "source": [
    "siamese_model = build_siamese_nets()"
   ]
  },
  {
   "cell_type": "code",
   "execution_count": 132,
   "metadata": {},
   "outputs": [
    {
     "name": "stdout",
     "output_type": "stream",
     "text": [
      "Model: \"SiameseNN\"\n",
      "__________________________________________________________________________________________________\n",
      " Layer (type)                Output Shape                 Param #   Connected to                  \n",
      "==================================================================================================\n",
      " input_img (InputLayer)      [(None, 105, 105, 3)]        0         []                            \n",
      "                                                                                                  \n",
      " validation_img (InputLayer  [(None, 105, 105, 3)]        0         []                            \n",
      " )                                                                                                \n",
      "                                                                                                  \n",
      " embedding (Functional)      (None, 4096)                 3896044   ['input_img[0][0]',           \n",
      "                                                          8          'validation_img[0][0]']      \n",
      "                                                                                                  \n",
      " distance (L1Dist)           (None, 4096)                 0         ['embedding[2][0]',           \n",
      "                                                                     'embedding[3][0]']           \n",
      "                                                                                                  \n",
      " dense_3 (Dense)             (None, 1)                    4097      ['distance[0][0]']            \n",
      "                                                                                                  \n",
      "==================================================================================================\n",
      "Total params: 38964545 (148.64 MB)\n",
      "Trainable params: 38964545 (148.64 MB)\n",
      "Non-trainable params: 0 (0.00 Byte)\n",
      "__________________________________________________________________________________________________\n"
     ]
    }
   ],
   "source": [
    "siamese_model.summary()"
   ]
  },
  {
   "cell_type": "markdown",
   "metadata": {},
   "source": [
    "# 5. Training"
   ]
  },
  {
   "cell_type": "markdown",
   "metadata": {},
   "source": [
    "## 5.1 Setup Loss and Optimizer"
   ]
  },
  {
   "cell_type": "code",
   "execution_count": 135,
   "metadata": {},
   "outputs": [],
   "source": [
    "bce_loss = tf.losses.BinaryCrossentropy()"
   ]
  },
  {
   "cell_type": "code",
   "execution_count": 136,
   "metadata": {},
   "outputs": [],
   "source": [
    "opt = tf.keras.optimizers.Adam(1e-4)"
   ]
  },
  {
   "cell_type": "markdown",
   "metadata": {},
   "source": [
    "## 5.2 Establish Checkpoints"
   ]
  },
  {
   "cell_type": "code",
   "execution_count": 137,
   "metadata": {},
   "outputs": [],
   "source": [
    "checkpoint_dir = './training_checkpoints'\n",
    "checkpoint_prefix = os.path.join(checkpoint_dir, 'ckpt')\n",
    "checkpoint = tf.train.Checkpoint(opt=opt, siamese_model=siamese_model)"
   ]
  },
  {
   "cell_type": "markdown",
   "metadata": {},
   "source": [
    "## 5.3 Build Train Step Function"
   ]
  },
  {
   "cell_type": "code",
   "execution_count": 153,
   "metadata": {},
   "outputs": [],
   "source": [
    "@tf.function\n",
    "def train_step(batch):\n",
    "\n",
    "    with tf.GradientTape() as tape:\n",
    "        # Get anchor and validation image\n",
    "        X = batch[:2]\n",
    "        # Get label\n",
    "        y = batch[2]\n",
    "\n",
    "        # Forward pass\n",
    "        y_pred = siamese_model(X, training=True)\n",
    "        # Calculate loss\n",
    "        loss = bce_loss(y, y_pred)\n",
    "    print(loss)\n",
    "\n",
    "    # Calculate gradients\n",
    "    grad = tape.gradient(loss, siamese_model.trainable_variables)\n",
    "\n",
    "    # Calculate updated weights and apply to model\n",
    "    opt.apply_gradients(\n",
    "        zip(grad, siamese_model.trainable_variables)\n",
    "        )\n",
    "    return loss"
   ]
  },
  {
   "cell_type": "markdown",
   "metadata": {},
   "source": [
    "## 5.4 Build Training Loop"
   ]
  },
  {
   "cell_type": "code",
   "execution_count": 154,
   "metadata": {},
   "outputs": [],
   "source": [
    "def train(data, EPOCHS):\n",
    "    for epoch in range(1, EPOCHS + 1):\n",
    "        print('\\n Epoch {}/{}'.format(epoch, EPOCHS))\n",
    "        progbar = tf.keras.utils.Progbar(len(data))\n",
    "\n",
    "        for idx, batch in enumerate(data):\n",
    "            train_step(batch)\n",
    "            progbar.update(idx+1)\n",
    "\n",
    "        # Save checkpoints\n",
    "        if epoch % 10 == 0:\n",
    "            checkpoint.save(file_prefix=checkpoint_prefix)"
   ]
  },
  {
   "cell_type": "markdown",
   "metadata": {},
   "source": [
    "## 5.5 Train the Model"
   ]
  },
  {
   "cell_type": "code",
   "execution_count": 155,
   "metadata": {},
   "outputs": [],
   "source": [
    "EPOCHS = 50"
   ]
  },
  {
   "cell_type": "code",
   "execution_count": 156,
   "metadata": {},
   "outputs": [
    {
     "name": "stdout",
     "output_type": "stream",
     "text": [
      "\n",
      " Epoch 1/50\n",
      "Tensor(\"binary_crossentropy/weighted_loss/value:0\", shape=(), dtype=float32)\n",
      "26/27 [===========================>..] - ETA: 11sTensor(\"binary_crossentropy/weighted_loss/value:0\", shape=(), dtype=float32)\n",
      "27/27 [==============================] - 297s 11s/step\n",
      "\n",
      " Epoch 2/50\n",
      "27/27 [==============================] - 259s 10s/step\n",
      "\n",
      " Epoch 3/50\n",
      "27/27 [==============================] - 248s 9s/step\n",
      "\n",
      " Epoch 4/50\n",
      "27/27 [==============================] - 246s 9s/step\n",
      "\n",
      " Epoch 5/50\n",
      "27/27 [==============================] - 248s 9s/step\n",
      "\n",
      " Epoch 6/50\n",
      "27/27 [==============================] - 246s 9s/step\n",
      "\n",
      " Epoch 7/50\n",
      "27/27 [==============================] - 242s 9s/step\n",
      "\n",
      " Epoch 8/50\n",
      "27/27 [==============================] - 241s 9s/step\n",
      "\n",
      " Epoch 9/50\n",
      "27/27 [==============================] - 245s 9s/step\n",
      "\n",
      " Epoch 10/50\n",
      "27/27 [==============================] - 251s 9s/step\n",
      "\n",
      " Epoch 11/50\n",
      "27/27 [==============================] - 259s 9s/step\n",
      "\n",
      " Epoch 12/50\n",
      "27/27 [==============================] - 246s 9s/step\n",
      "\n",
      " Epoch 13/50\n",
      "27/27 [==============================] - 242s 9s/step\n",
      "\n",
      " Epoch 14/50\n",
      "27/27 [==============================] - 242s 9s/step\n",
      "\n",
      " Epoch 15/50\n",
      "27/27 [==============================] - 241s 9s/step\n",
      "\n",
      " Epoch 16/50\n",
      "27/27 [==============================] - 241s 9s/step\n",
      "\n",
      " Epoch 17/50\n",
      "27/27 [==============================] - 249s 9s/step\n",
      "\n",
      " Epoch 18/50\n",
      "27/27 [==============================] - 243s 9s/step\n",
      "\n",
      " Epoch 19/50\n",
      "27/27 [==============================] - 242s 9s/step\n",
      "\n",
      " Epoch 20/50\n",
      "27/27 [==============================] - 241s 9s/step\n",
      "\n",
      " Epoch 21/50\n",
      "27/27 [==============================] - 249s 9s/step\n",
      "\n",
      " Epoch 22/50\n",
      "27/27 [==============================] - 242s 9s/step\n",
      "\n",
      " Epoch 23/50\n",
      "27/27 [==============================] - 243s 9s/step\n",
      "\n",
      " Epoch 24/50\n",
      "27/27 [==============================] - 245s 9s/step\n",
      "\n",
      " Epoch 25/50\n",
      "27/27 [==============================] - 255s 9s/step\n",
      "\n",
      " Epoch 26/50\n",
      "27/27 [==============================] - 255s 9s/step\n",
      "\n",
      " Epoch 27/50\n",
      "27/27 [==============================] - 252s 9s/step\n",
      "\n",
      " Epoch 28/50\n",
      "27/27 [==============================] - 250s 9s/step\n",
      "\n",
      " Epoch 29/50\n",
      "27/27 [==============================] - 250s 9s/step\n",
      "\n",
      " Epoch 30/50\n",
      "27/27 [==============================] - 253s 9s/step\n",
      "\n",
      " Epoch 31/50\n",
      "27/27 [==============================] - 259s 10s/step\n",
      "\n",
      " Epoch 32/50\n",
      "27/27 [==============================] - 255s 9s/step\n",
      "\n",
      " Epoch 33/50\n",
      "27/27 [==============================] - 256s 9s/step\n",
      "\n",
      " Epoch 34/50\n",
      "27/27 [==============================] - 271s 10s/step\n",
      "\n",
      " Epoch 35/50\n",
      "27/27 [==============================] - 237s 9s/step\n",
      "\n",
      " Epoch 36/50\n",
      "27/27 [==============================] - 239s 9s/step\n",
      "\n",
      " Epoch 37/50\n",
      "27/27 [==============================] - 234s 9s/step\n",
      "\n",
      " Epoch 38/50\n",
      "27/27 [==============================] - 234s 9s/step\n",
      "\n",
      " Epoch 39/50\n",
      "27/27 [==============================] - 228s 8s/step\n",
      "\n",
      " Epoch 40/50\n",
      "27/27 [==============================] - 224s 8s/step\n",
      "\n",
      " Epoch 41/50\n",
      "27/27 [==============================] - 238s 9s/step\n",
      "\n",
      " Epoch 42/50\n",
      "27/27 [==============================] - 225s 8s/step\n",
      "\n",
      " Epoch 43/50\n",
      "27/27 [==============================] - 226s 8s/step\n",
      "\n",
      " Epoch 44/50\n",
      "27/27 [==============================] - 228s 8s/step\n",
      "\n",
      " Epoch 45/50\n",
      "27/27 [==============================] - 226s 8s/step\n",
      "\n",
      " Epoch 46/50\n",
      "27/27 [==============================] - 227s 8s/step\n",
      "\n",
      " Epoch 47/50\n",
      "27/27 [==============================] - 234s 9s/step\n",
      "\n",
      " Epoch 48/50\n",
      "27/27 [==============================] - 236s 9s/step\n",
      "\n",
      " Epoch 49/50\n",
      "27/27 [==============================] - 232s 9s/step\n",
      "\n",
      " Epoch 50/50\n",
      "27/27 [==============================] - 235s 9s/step\n"
     ]
    }
   ],
   "source": [
    "train(train_data, EPOCHS)"
   ]
  },
  {
   "cell_type": "markdown",
   "metadata": {},
   "source": [
    "# 6. Evaluate Model"
   ]
  },
  {
   "cell_type": "markdown",
   "metadata": {},
   "source": [
    "## 6.1 Import Metrics"
   ]
  },
  {
   "cell_type": "code",
   "execution_count": 157,
   "metadata": {},
   "outputs": [],
   "source": [
    "# Import metrics\n",
    "from tensorflow.keras.metrics import Precision, Recall"
   ]
  },
  {
   "cell_type": "markdown",
   "metadata": {},
   "source": [
    "## 6.2 Make Predictions"
   ]
  },
  {
   "cell_type": "code",
   "execution_count": 215,
   "metadata": {},
   "outputs": [],
   "source": [
    "test_input, test_val, y_true = test_data.as_numpy_iterator().next()"
   ]
  },
  {
   "cell_type": "code",
   "execution_count": 216,
   "metadata": {},
   "outputs": [
    {
     "name": "stdout",
     "output_type": "stream",
     "text": [
      "1/1 [==============================] - 2s 2s/step\n"
     ]
    },
    {
     "data": {
      "text/plain": [
       "array([[9.98047948e-01],\n",
       "       [1.68451134e-05],\n",
       "       [8.17222823e-09],\n",
       "       [1.00000000e+00],\n",
       "       [4.10832826e-07],\n",
       "       [1.12294965e-05],\n",
       "       [3.54100216e-08],\n",
       "       [9.98346746e-01],\n",
       "       [9.98038054e-01],\n",
       "       [9.99996424e-01],\n",
       "       [4.30823229e-06],\n",
       "       [2.37500029e-08],\n",
       "       [9.99912918e-01],\n",
       "       [5.88913522e-08],\n",
       "       [1.00000000e+00],\n",
       "       [1.00000000e+00]], dtype=float32)"
      ]
     },
     "execution_count": 216,
     "metadata": {},
     "output_type": "execute_result"
    }
   ],
   "source": [
    "y_pred = siamese_model.predict([test_input, test_val])\n",
    "y_pred"
   ]
  },
  {
   "cell_type": "code",
   "execution_count": 217,
   "metadata": {},
   "outputs": [
    {
     "data": {
      "text/plain": [
       "[1, 0, 0, 1, 0, 0, 0, 1, 1, 1, 0, 0, 1, 0, 1, 1]"
      ]
     },
     "execution_count": 217,
     "metadata": {},
     "output_type": "execute_result"
    }
   ],
   "source": [
    "[1 if pred > 0.5 else 0 for pred in y_pred]"
   ]
  },
  {
   "cell_type": "code",
   "execution_count": 218,
   "metadata": {},
   "outputs": [
    {
     "data": {
      "text/plain": [
       "array([1., 0., 0., 1., 0., 0., 0., 1., 1., 1., 0., 0., 1., 0., 1., 1.],\n",
       "      dtype=float32)"
      ]
     },
     "execution_count": 218,
     "metadata": {},
     "output_type": "execute_result"
    }
   ],
   "source": [
    "y_true"
   ]
  },
  {
   "cell_type": "markdown",
   "metadata": {},
   "source": [
    "## 6.3 Calculate Metrics"
   ]
  },
  {
   "cell_type": "code",
   "execution_count": 183,
   "metadata": {},
   "outputs": [
    {
     "data": {
      "text/plain": [
       "1.0"
      ]
     },
     "execution_count": 183,
     "metadata": {},
     "output_type": "execute_result"
    }
   ],
   "source": [
    "# Create metric object\n",
    "m = Recall()\n",
    "# Calculate recall value\n",
    "m.update_state(y_true, y_pred)\n",
    "# Return recall result\n",
    "m.result().numpy()"
   ]
  },
  {
   "cell_type": "code",
   "execution_count": 184,
   "metadata": {},
   "outputs": [
    {
     "data": {
      "text/plain": [
       "1.0"
      ]
     },
     "execution_count": 184,
     "metadata": {},
     "output_type": "execute_result"
    }
   ],
   "source": [
    "# Create metric object\n",
    "m = Precision()\n",
    "# Calculate precision value\n",
    "m.update_state(y_true, y_pred)\n",
    "# Return precision result\n",
    "m.result().numpy()"
   ]
  },
  {
   "cell_type": "markdown",
   "metadata": {},
   "source": [
    "## 6.4 Viz"
   ]
  },
  {
   "cell_type": "code",
   "execution_count": 192,
   "metadata": {},
   "outputs": [
    {
     "data": {
      "image/png": "[encoded data removed]",
      "text/plain": [
       "<Figure size 1000x800 with 2 Axes>"
      ]
     },
     "metadata": {},
     "output_type": "display_data"
    }
   ],
   "source": [
    "# Set plot size\n",
    "plt.figure(figsize=(10,8))\n",
    "plt.subplot(1,2,1)\n",
    "plt.imshow(test_input[7])\n",
    "plt.subplot(1,2,2)\n",
    "plt.imshow(test_val[7])\n",
    "plt.show()"
   ]
  },
  {
   "cell_type": "markdown",
   "metadata": {},
   "source": [
    "# 7. Save Model"
   ]
  },
  {
   "cell_type": "code",
   "execution_count": 194,
   "metadata": {},
   "outputs": [
    {
     "name": "stdout",
     "output_type": "stream",
     "text": [
      "WARNING:tensorflow:Compiled the loaded model, but the compiled metrics have yet to be built. `model.compile_metrics` will be empty until you train or evaluate the model.\n"
     ]
    },
    {
     "name": "stderr",
     "output_type": "stream",
     "text": [
      "/Users/chuamingfeng/Desktop/FaceID/faceid/lib/python3.11/site-packages/keras/src/engine/training.py:3000: UserWarning: You are saving your model as an HDF5 file via `model.save()`. This file format is considered legacy. We recommend using instead the native Keras format, e.g. `model.save('my_model.keras')`.\n",
      "  saving_api.save_model(\n"
     ]
    }
   ],
   "source": [
    "# Save weights\n",
    "siamese_model.save('siamesemodel.h5')"
   ]
  },
  {
   "cell_type": "code",
   "execution_count": 237,
   "metadata": {},
   "outputs": [
    {
     "name": "stdout",
     "output_type": "stream",
     "text": [
      "WARNING:tensorflow:No training configuration found in the save file, so the model was *not* compiled. Compile it manually.\n"
     ]
    }
   ],
   "source": [
    "# Reload model\n",
    "model = tf.keras.models.load_model('siamesemodel.h5', \n",
    "                                    custom_objects={'L1Dist':L1Dist, 'BinaryCrossentropy':tf.losses.BinaryCrossentropy})"
   ]
  },
  {
   "cell_type": "code",
   "execution_count": 238,
   "metadata": {},
   "outputs": [
    {
     "name": "stdout",
     "output_type": "stream",
     "text": [
      "1/1 [==============================] - 2s 2s/step\n"
     ]
    },
    {
     "data": {
      "text/plain": [
       "array([[9.98047948e-01],\n",
       "       [1.68451134e-05],\n",
       "       [8.17222823e-09],\n",
       "       [1.00000000e+00],\n",
       "       [4.10832826e-07],\n",
       "       [1.12294965e-05],\n",
       "       [3.54100216e-08],\n",
       "       [9.98346746e-01],\n",
       "       [9.98038054e-01],\n",
       "       [9.99996424e-01],\n",
       "       [4.30823229e-06],\n",
       "       [2.37500029e-08],\n",
       "       [9.99912918e-01],\n",
       "       [5.88913522e-08],\n",
       "       [1.00000000e+00],\n",
       "       [1.00000000e+00]], dtype=float32)"
      ]
     },
     "execution_count": 238,
     "metadata": {},
     "output_type": "execute_result"
    }
   ],
   "source": [
    "model.predict([test_input,test_val])"
   ]
  },
  {
   "cell_type": "markdown",
   "metadata": {},
   "source": [
    "# 8. Real Time Test"
   ]
  },
  {
   "cell_type": "markdown",
   "metadata": {},
   "source": [
    "## 8.1 Verification Function"
   ]
  },
  {
   "cell_type": "code",
   "execution_count": 239,
   "metadata": {},
   "outputs": [],
   "source": [
    "def verify(model, detection_threshold, verification_threshold):\n",
    "\n",
    "    \"\"\"\n",
    "    model: siamese model\n",
    "    detection_threshold: metric above which a prediction is classified as positive\n",
    "    verification_threshold: proportion of positive predictions / total positive samples\n",
    "    \"\"\"\n",
    "\n",
    "    results = []\n",
    "    verification_images = os.listdir(os.path.join('application_data', 'verification_images'))\n",
    "    for image in verification_images:\n",
    "        input_img = preprocess(os.path.join('application_data', 'input_image', 'input_image.jpg'))\n",
    "        validation_img = preprocess(os.path.join('application_data', 'verification_images', image))\n",
    "\n",
    "        result = model.predict(list(np.expand_dims([input_img, validation_img], axis=1)), verbose = 0)\n",
    "        results.append(result)\n",
    "    detection = np.sum(np.array(results) > detection_threshold)\n",
    "    verification = detection/len(verification_images)\n",
    "\n",
    "    return results, verification > verification_threshold"
   ]
  },
  {
   "cell_type": "markdown",
   "metadata": {},
   "source": [
    "## 8.2 OpenCV Real Time Verification"
   ]
  },
  {
   "cell_type": "code",
   "execution_count": 293,
   "metadata": {},
   "outputs": [],
   "source": [
    "cap = cv2.VideoCapture(0)\n",
    "while cap.isOpened():\n",
    "    ret, frame = cap.read()\n",
    "\n",
    "    frame = frame[120:120+250, 650:650+250, :]\n",
    "\n",
    "    cv2.imshow('Verification', frame)\n",
    "\n",
    "    # Frame verification trigger\n",
    "    if cv2.waitKey(10) & 0xFF == ord('v'):\n",
    "        # save input image to application_data/input_image\n",
    "        cv2.imwrite(os.path.join('application_data', 'input_image', 'input_image.jpg'), frame)\n",
    "        results, verified = verify(model, 0.5, 0.7)\n",
    "        print(verified)\n",
    "        print(np.sum(np.squeeze(results) > 0.5))\n",
    "\n",
    "    if cv2.waitKey(10) & 0xFF == ord('q'):\n",
    "        break\n",
    "\n",
    "cap.release()\n",
    "cv2.destroyAllWindows()"
   ]
  },
  {
   "cell_type": "code",
   "execution_count": 290,
   "metadata": {},
   "outputs": [
    {
     "data": {
      "text/plain": [
       "array([9.98567045e-01, 4.84989141e-06, 3.90553653e-01, 5.18380781e-04,\n",
       "       2.81678498e-01, 1.00000000e+00, 9.47166026e-01, 4.62630342e-05,\n",
       "       2.23492854e-04, 9.99997139e-01, 2.90928900e-01, 1.00000000e+00,\n",
       "       5.25153791e-06, 9.99985456e-01, 1.61451194e-03, 7.81443396e-06,\n",
       "       7.19162226e-01, 9.96927321e-01, 4.08175129e-06, 3.64242494e-02,\n",
       "       9.99319792e-01, 2.19850830e-04, 9.99880910e-01, 1.14599830e-02,\n",
       "       9.51398306e-06, 9.76375937e-01, 6.86571366e-06, 9.99873102e-01,\n",
       "       9.98393834e-01, 1.66767428e-03, 1.71037505e-06, 9.75624084e-01,\n",
       "       2.22860717e-06, 9.87355709e-01, 3.30618203e-01, 9.98932719e-01,\n",
       "       1.54809220e-06, 9.62190607e-05, 2.11642802e-01, 9.98993456e-01,\n",
       "       1.61157259e-05, 4.50451404e-01, 8.51489186e-01, 3.54320332e-02,\n",
       "       5.72688748e-07, 9.99422014e-01, 2.22992213e-07, 1.09833344e-07,\n",
       "       9.99997437e-01, 9.33209717e-01], dtype=float32)"
      ]
     },
     "execution_count": 290,
     "metadata": {},
     "output_type": "execute_result"
    }
   ],
   "source": [
    "np.squeeze(results)"
   ]
  },
  {
   "cell_type": "code",
   "execution_count": 273,
   "metadata": {},
   "outputs": [
    {
     "data": {
      "text/plain": [
       "18"
      ]
     },
     "execution_count": 273,
     "metadata": {},
     "output_type": "execute_result"
    }
   ],
   "source": [
    "np.sum(np.squeeze(results) > 0.5)"
   ]
  },
  {
   "cell_type": "code",
   "execution_count": 246,
   "metadata": {},
   "outputs": [],
   "source": [
    "def is_image(filename, verbose=False):\n",
    "\n",
    "    data = open(filename,'rb').read(10)\n",
    "\n",
    "    # check if file is JPG or JPEG\n",
    "    if data[:3] == b'\\xff\\xd8\\xff':\n",
    "        if verbose == True:\n",
    "             print(filename+\" is: JPG/JPEG.\")\n",
    "        return True\n",
    "\n",
    "    # check if file is PNG\n",
    "    if data[:8] == b'\\x89\\x50\\x4e\\x47\\x0d\\x0a\\x1a\\x0a':\n",
    "        if verbose == True:\n",
    "             print(filename+\" is: PNG.\")\n",
    "        return True\n",
    "\n",
    "    # check if file is GIF\n",
    "    if data[:6] in [b'\\x47\\x49\\x46\\x38\\x37\\x61', b'\\x47\\x49\\x46\\x38\\x39\\x61']:\n",
    "        if verbose == True:\n",
    "             print(filename+\" is: GIF.\")\n",
    "        return True\n",
    "\n",
    "    return False"
   ]
  },
  {
   "cell_type": "code",
   "execution_count": 282,
   "metadata": {},
   "outputs": [],
   "source": [
    "for filename in os.listdir(os.path.join('application_data', 'verification_images')):\n",
    "     # check if file is actually an image file\n",
    "     if is_image(os.path.join('application_data', 'verification_images', filename), verbose=False) == False:\n",
    "          # if the file is not valid, remove it\n",
    "          os.remove(os.path.join(os.path.join('application_data', 'verification_images'), filename))"
   ]
  }
 ],
 "metadata": {
  "kernelspec": {
   "display_name": "faceid",
   "language": "python",
   "name": "python3"
  },
  "language_info": {
   "codemirror_mode": {
    "name": "ipython",
    "version": 3
   },
   "file_extension": ".py",
   "mimetype": "text/x-python",
   "name": "python",
   "nbconvert_exporter": "python",
   "pygments_lexer": "ipython3",
   "version": "3.11.4"
  },
  "orig_nbformat": 4
 },
 "nbformat": 4,
 "nbformat_minor": 2
}
